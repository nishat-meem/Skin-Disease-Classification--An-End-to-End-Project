{
 "cells": [
  {
   "cell_type": "code",
   "execution_count": 1,
   "metadata": {},
   "outputs": [],
   "source": [
    "import os"
   ]
  },
  {
   "cell_type": "code",
   "execution_count": 2,
   "metadata": {},
   "outputs": [
    {
     "data": {
      "text/plain": [
       "'e:\\\\Skin-Disease-Classification\\\\research'"
      ]
     },
     "execution_count": 2,
     "metadata": {},
     "output_type": "execute_result"
    }
   ],
   "source": [
    "%pwd"
   ]
  },
  {
   "cell_type": "code",
   "execution_count": 3,
   "metadata": {},
   "outputs": [],
   "source": [
    "os.chdir(\"../\")"
   ]
  },
  {
   "cell_type": "code",
   "execution_count": 4,
   "metadata": {},
   "outputs": [
    {
     "data": {
      "text/plain": [
       "'e:\\\\Skin-Disease-Classification'"
      ]
     },
     "execution_count": 4,
     "metadata": {},
     "output_type": "execute_result"
    }
   ],
   "source": [
    "%pwd"
   ]
  },
  {
   "cell_type": "code",
   "execution_count": 5,
   "metadata": {},
   "outputs": [],
   "source": [
    "from dataclasses import dataclass\n",
    "from pathlib import Path\n",
    "\n",
    "\n",
    "@dataclass(frozen=True)\n",
    "class TrainingConfig:\n",
    "    root_dir: Path\n",
    "    trained_model_path: Path\n",
    "    updated_base_model_path: Path\n",
    "    training_data: Path\n",
    "    params_epochs: int\n",
    "    params_batch_size: int\n",
    "    params_is_augmentation: bool\n",
    "    params_image_size: list\n",
    "\n",
    "\n",
    "\n",
    "@dataclass(frozen=True)\n",
    "class PrepareCallbacksConfig:\n",
    "    root_dir: Path\n",
    "    tensorboard_root_log_dir: Path\n",
    "    checkpoint_model_filepath: Path"
   ]
  },
  {
   "cell_type": "code",
   "execution_count": 6,
   "metadata": {},
   "outputs": [],
   "source": [
    "from SkinDiseaseClassification.constants import *\n",
    "from SkinDiseaseClassification.utils.common import read_yaml, create_directories\n",
    "import tensorflow as tf"
   ]
  },
  {
   "cell_type": "code",
   "execution_count": 7,
   "metadata": {},
   "outputs": [],
   "source": [
    "class ConfigurationManager:\n",
    "    def __init__(\n",
    "        self, \n",
    "        config_filepath = CONFIG_FILE_PATH,\n",
    "        params_filepath = PARAMS_FILE_PATH):\n",
    "        self.config = read_yaml(config_filepath)\n",
    "        self.params = read_yaml(params_filepath)\n",
    "        create_directories([self.config.artifacts_root])\n",
    "\n",
    "\n",
    "    \n",
    "    def get_prepare_callback_config(self) -> PrepareCallbacksConfig:\n",
    "        config = self.config.prepare_callbacks\n",
    "        model_ckpt_dir = os.path.dirname(config.checkpoint_model_filepath)\n",
    "        create_directories([\n",
    "            Path(model_ckpt_dir),\n",
    "            Path(config.tensorboard_root_log_dir)\n",
    "        ])\n",
    "\n",
    "        prepare_callback_config = PrepareCallbacksConfig(\n",
    "            root_dir=Path(config.root_dir),\n",
    "            tensorboard_root_log_dir=Path(config.tensorboard_root_log_dir),\n",
    "            checkpoint_model_filepath=Path(config.checkpoint_model_filepath)\n",
    "        )\n",
    "\n",
    "        return prepare_callback_config\n",
    "    \n",
    "\n",
    "\n",
    "\n",
    "\n",
    "    def get_training_config(self) -> TrainingConfig:\n",
    "        training = self.config.training\n",
    "        prepare_base_model = self.config.prepare_base_model\n",
    "        params = self.params\n",
    "        training_data = os.path.join(self.config.data_ingestion.unzip_dir, \"Skin-Disease-Dataset\")\n",
    "        create_directories([\n",
    "            Path(training.root_dir)\n",
    "        ])\n",
    "\n",
    "        training_config = TrainingConfig(\n",
    "            root_dir=Path(training.root_dir),\n",
    "            trained_model_path=Path(training.trained_model_path),\n",
    "            updated_base_model_path=Path(prepare_base_model.updated_base_model_path),\n",
    "            training_data=Path(training_data),\n",
    "            params_epochs=params.EPOCHS,\n",
    "            params_batch_size=params.BATCH_SIZE,\n",
    "            params_is_augmentation=params.AUGMENTATION,\n",
    "            params_image_size=params.IMAGE_SIZE\n",
    "        )\n",
    "\n",
    "        return training_config"
   ]
  },
  {
   "cell_type": "code",
   "execution_count": 8,
   "metadata": {},
   "outputs": [],
   "source": [
    "import time"
   ]
  },
  {
   "cell_type": "code",
   "execution_count": 9,
   "metadata": {},
   "outputs": [],
   "source": [
    "class PrepareCallback:\n",
    "    def __init__(self, config: PrepareCallbacksConfig):\n",
    "        self.config = config\n",
    "\n",
    "\n",
    "    \n",
    "    @property\n",
    "    def _create_tb_callbacks(self):\n",
    "        timestamp = time.strftime(\"%Y-%m-%d-%H-%M-%S\")\n",
    "        tb_running_log_dir = os.path.join(\n",
    "            self.config.tensorboard_root_log_dir,\n",
    "            f\"tb_logs_at_{timestamp}\",\n",
    "        )\n",
    "        return tf.keras.callbacks.TensorBoard(log_dir=tb_running_log_dir)\n",
    "    \n",
    "\n",
    "    @property\n",
    "    def _create_ckpt_callbacks(self):\n",
    "        return tf.keras.callbacks.ModelCheckpoint(\n",
    "            filepath=self.config.checkpoint_model_filepath,\n",
    "            save_best_only=True\n",
    "        )\n",
    "\n",
    "\n",
    "    def get_tb_ckpt_callbacks(self):\n",
    "        return [\n",
    "            self._create_tb_callbacks,\n",
    "            self._create_ckpt_callbacks\n",
    "        ]"
   ]
  },
  {
   "cell_type": "code",
   "execution_count": 10,
   "metadata": {},
   "outputs": [],
   "source": [
    "import os\n",
    "import urllib.request as request\n",
    "from zipfile import ZipFile\n",
    "import tensorflow as tf\n",
    "import time"
   ]
  },
  {
   "cell_type": "code",
   "execution_count": 11,
   "metadata": {},
   "outputs": [],
   "source": [
    "class Training:\n",
    "    def __init__(self, config: TrainingConfig):\n",
    "        self.config = config\n",
    "    \n",
    "    def get_base_model(self):\n",
    "        self.model = tf.keras.models.load_model(\n",
    "            self.config.updated_base_model_path\n",
    "        )\n",
    "    \n",
    "    def train_valid_generator(self):\n",
    "\n",
    "        datagenerator_kwargs = dict(\n",
    "            rescale = 1./255,\n",
    "            validation_split=0.20\n",
    "        )\n",
    "\n",
    "        dataflow_kwargs = dict(\n",
    "            target_size=self.config.params_image_size[:-1],\n",
    "            batch_size=self.config.params_batch_size,\n",
    "            interpolation=\"bilinear\"\n",
    "        )\n",
    "\n",
    "        valid_datagenerator = tf.keras.preprocessing.image.ImageDataGenerator(\n",
    "            **datagenerator_kwargs\n",
    "        )\n",
    "\n",
    "        self.valid_generator = valid_datagenerator.flow_from_directory(\n",
    "            directory=self.config.training_data,\n",
    "            subset=\"validation\",\n",
    "            shuffle=False,\n",
    "            **dataflow_kwargs\n",
    "        )\n",
    "\n",
    "        if self.config.params_is_augmentation:\n",
    "            train_datagenerator = tf.keras.preprocessing.image.ImageDataGenerator(\n",
    "                rotation_range=40,\n",
    "                horizontal_flip=True,\n",
    "                width_shift_range=0.2,\n",
    "                height_shift_range=0.2,\n",
    "                shear_range=0.2,\n",
    "                zoom_range=0.2,\n",
    "                **datagenerator_kwargs\n",
    "            )\n",
    "        else:\n",
    "            train_datagenerator = valid_datagenerator\n",
    "\n",
    "        self.train_generator = train_datagenerator.flow_from_directory(\n",
    "            directory=self.config.training_data,\n",
    "            subset=\"training\",\n",
    "            shuffle=True,\n",
    "            **dataflow_kwargs\n",
    "        )\n",
    "\n",
    "    @staticmethod\n",
    "    def save_model(path: Path, model: tf.keras.Model):\n",
    "        model.save(path)\n",
    "\n",
    "\n",
    "    def train(self, callback_list: list):\n",
    "        self.steps_per_epoch = self.train_generator.samples // self.train_generator.batch_size\n",
    "        self.validation_steps = self.valid_generator.samples // self.valid_generator.batch_size\n",
    "\n",
    "        self.model.fit(\n",
    "            self.train_generator,\n",
    "            epochs=self.config.params_epochs,\n",
    "            steps_per_epoch=self.steps_per_epoch,\n",
    "            validation_steps=self.validation_steps,\n",
    "            validation_data=self.valid_generator,\n",
    "            callbacks=callback_list\n",
    "        )\n",
    "\n",
    "        self.save_model(\n",
    "            path=self.config.trained_model_path,\n",
    "            model=self.model\n",
    "        )"
   ]
  },
  {
   "cell_type": "code",
   "execution_count": 14,
   "metadata": {},
   "outputs": [
    {
     "name": "stdout",
     "output_type": "stream",
     "text": [
      "[2024-04-01 22:38:12,319: INFO: common: yaml file: config\\config.yaml loaded successfully]\n",
      "[2024-04-01 22:38:12,324: INFO: common: yaml file: params.yaml loaded successfully]\n",
      "[2024-04-01 22:38:12,328: INFO: common: created directory at: artifacts]\n",
      "[2024-04-01 22:38:12,329: INFO: common: created directory at: artifacts\\prepare_callbacks\\checkpoint_dir]\n",
      "[2024-04-01 22:38:12,329: INFO: common: created directory at: artifacts\\prepare_callbacks\\tensorboard_log_dir]\n",
      "[2024-04-01 22:38:12,329: INFO: common: created directory at: artifacts\\training]\n",
      "Found 229 images belonging to 8 classes.\n",
      "Found 928 images belonging to 8 classes.\n",
      "Epoch 1/20\n",
      "29/29 [==============================] - 20s 644ms/step - loss: 52.8345 - accuracy: 0.5733 - val_loss: 19.7006 - val_accuracy: 0.7812\n",
      "Epoch 2/20\n",
      "29/29 [==============================] - 18s 613ms/step - loss: 15.6970 - accuracy: 0.8244 - val_loss: 17.2914 - val_accuracy: 0.8259\n",
      "Epoch 3/20\n",
      "29/29 [==============================] - 18s 628ms/step - loss: 9.4764 - accuracy: 0.8825 - val_loss: 15.4436 - val_accuracy: 0.8438\n",
      "Epoch 4/20\n",
      "29/29 [==============================] - 18s 606ms/step - loss: 12.9168 - accuracy: 0.8524 - val_loss: 9.9321 - val_accuracy: 0.8839\n",
      "Epoch 5/20\n",
      "29/29 [==============================] - 17s 602ms/step - loss: 8.3482 - accuracy: 0.9062 - val_loss: 12.5787 - val_accuracy: 0.9062\n",
      "Epoch 6/20\n",
      "29/29 [==============================] - 17s 597ms/step - loss: 9.3095 - accuracy: 0.8955 - val_loss: 10.4833 - val_accuracy: 0.8973\n",
      "Epoch 7/20\n",
      "29/29 [==============================] - 17s 602ms/step - loss: 8.7269 - accuracy: 0.9138 - val_loss: 10.7288 - val_accuracy: 0.9062\n",
      "Epoch 8/20\n",
      "29/29 [==============================] - 18s 618ms/step - loss: 11.0748 - accuracy: 0.8955 - val_loss: 4.6701 - val_accuracy: 0.9509\n",
      "Epoch 9/20\n",
      "29/29 [==============================] - 18s 612ms/step - loss: 9.9090 - accuracy: 0.9095 - val_loss: 9.4365 - val_accuracy: 0.8973\n",
      "Epoch 10/20\n",
      "29/29 [==============================] - 18s 605ms/step - loss: 9.8637 - accuracy: 0.9095 - val_loss: 10.6232 - val_accuracy: 0.8973\n",
      "Epoch 11/20\n",
      "29/29 [==============================] - 17s 602ms/step - loss: 7.9082 - accuracy: 0.9332 - val_loss: 8.7283 - val_accuracy: 0.9152\n",
      "Epoch 12/20\n",
      "29/29 [==============================] - 18s 603ms/step - loss: 7.8741 - accuracy: 0.9224 - val_loss: 6.9638 - val_accuracy: 0.9330\n",
      "Epoch 13/20\n",
      "29/29 [==============================] - 17s 599ms/step - loss: 5.0699 - accuracy: 0.9375 - val_loss: 7.8512 - val_accuracy: 0.9420\n",
      "Epoch 14/20\n",
      "29/29 [==============================] - 18s 603ms/step - loss: 10.2957 - accuracy: 0.9149 - val_loss: 14.7656 - val_accuracy: 0.8973\n",
      "Epoch 15/20\n",
      "29/29 [==============================] - 18s 606ms/step - loss: 8.1794 - accuracy: 0.9321 - val_loss: 5.8624 - val_accuracy: 0.9464\n",
      "Epoch 16/20\n",
      "29/29 [==============================] - 18s 614ms/step - loss: 4.6126 - accuracy: 0.9483 - val_loss: 4.6262 - val_accuracy: 0.9688\n",
      "Epoch 17/20\n",
      "29/29 [==============================] - 18s 607ms/step - loss: 4.5546 - accuracy: 0.9580 - val_loss: 9.5384 - val_accuracy: 0.9330\n",
      "Epoch 18/20\n",
      "29/29 [==============================] - 18s 607ms/step - loss: 3.5485 - accuracy: 0.9644 - val_loss: 5.5485 - val_accuracy: 0.9509\n",
      "Epoch 19/20\n",
      "29/29 [==============================] - 17s 595ms/step - loss: 6.8007 - accuracy: 0.9407 - val_loss: 6.3268 - val_accuracy: 0.9464\n",
      "Epoch 20/20\n",
      "29/29 [==============================] - 18s 604ms/step - loss: 6.2616 - accuracy: 0.9526 - val_loss: 9.0169 - val_accuracy: 0.9375\n"
     ]
    }
   ],
   "source": [
    "try:\n",
    "    config = ConfigurationManager()\n",
    "    prepare_callbacks_config = config.get_prepare_callback_config()\n",
    "    prepare_callbacks = PrepareCallback(config=prepare_callbacks_config)\n",
    "    callback_list = prepare_callbacks.get_tb_ckpt_callbacks()\n",
    "\n",
    "    training_config = config.get_training_config()\n",
    "    training = Training(config=training_config)\n",
    "    training.get_base_model()\n",
    "    training.train_valid_generator()\n",
    "    training.train(\n",
    "        callback_list=callback_list\n",
    "    )\n",
    "    \n",
    "except Exception as e:\n",
    "    raise e"
   ]
  },
  {
   "cell_type": "code",
   "execution_count": null,
   "metadata": {},
   "outputs": [],
   "source": []
  }
 ],
 "metadata": {
  "kernelspec": {
   "display_name": "skin",
   "language": "python",
   "name": "python3"
  },
  "language_info": {
   "codemirror_mode": {
    "name": "ipython",
    "version": 3
   },
   "file_extension": ".py",
   "mimetype": "text/x-python",
   "name": "python",
   "nbconvert_exporter": "python",
   "pygments_lexer": "ipython3",
   "version": "3.8.0"
  }
 },
 "nbformat": 4,
 "nbformat_minor": 2
}
